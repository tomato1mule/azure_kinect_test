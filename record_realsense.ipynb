{
 "cells": [
  {
   "cell_type": "code",
   "execution_count": null,
   "metadata": {},
   "outputs": [],
   "source": [
    "import os, sys\n",
    "import time\n",
    "import pickle\n",
    "import gzip\n",
    "from typing import *\n",
    "\n",
    "import pyrealsense2 as rs\n",
    "from matplotlib import pyplot as plt\n",
    "import numpy as np\n",
    "\n",
    "def save_gzip(path, data):\n",
    "    with gzip.open(path, 'wb') as f:\n",
    "        pickle.dump(data, f)\n",
    "\n",
    "def save_json(path, data):\n",
    "    import json\n",
    "    with open(path, \"w\") as f:\n",
    "        json.dump(data, f)"
   ]
  },
  {
   "cell_type": "code",
   "execution_count": null,
   "metadata": {},
   "outputs": [],
   "source": [
    "pipe = rs.pipeline()\n",
    "profiles = pipe.start()"
   ]
  },
  {
   "cell_type": "code",
   "execution_count": null,
   "metadata": {},
   "outputs": [],
   "source": [
    "depth_profile = profiles.get_stream(rs.stream.depth)\n",
    "intr = depth_profile.as_video_stream_profile().get_intrinsics()\n",
    "# https://intelrealsense.github.io/librealsense/python_docs/_generated/pyrealsense2.intrinsics.html\n",
    "camera_matrix = [[intr.fx, 0., intr.ppx],\n",
    "                 [0., intr.fy, intr.ppy],\n",
    "                 [0., 0., 1.]]\n",
    "dist_coeff = intr.coeffs\n",
    "calibrations = {\n",
    "    'camera_matrix': camera_matrix,\n",
    "    'dist_coeff': dist_coeff,\n",
    "}"
   ]
  },
  {
   "cell_type": "code",
   "execution_count": null,
   "metadata": {},
   "outputs": [],
   "source": [
    "try:\n",
    "  for i in range(0, 100):\n",
    "    frames = pipe.wait_for_frames()\n",
    "    for f in frames:\n",
    "      print(f.profile)\n",
    "finally:\n",
    "    pipe.stop()"
   ]
  },
  {
   "cell_type": "code",
   "execution_count": null,
   "metadata": {},
   "outputs": [],
   "source": []
  },
  {
   "cell_type": "code",
   "execution_count": null,
   "metadata": {},
   "outputs": [],
   "source": []
  },
  {
   "cell_type": "code",
   "execution_count": null,
   "metadata": {},
   "outputs": [],
   "source": []
  }
 ],
 "metadata": {
  "kernelspec": {
   "display_name": "kinect",
   "language": "python",
   "name": "python3"
  },
  "language_info": {
   "codemirror_mode": {
    "name": "ipython",
    "version": 3
   },
   "file_extension": ".py",
   "mimetype": "text/x-python",
   "name": "python",
   "nbconvert_exporter": "python",
   "pygments_lexer": "ipython3",
   "version": "3.8.17"
  },
  "orig_nbformat": 4
 },
 "nbformat": 4,
 "nbformat_minor": 2
}
