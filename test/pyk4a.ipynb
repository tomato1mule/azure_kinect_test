{
 "cells": [
  {
   "cell_type": "code",
   "execution_count": null,
   "metadata": {},
   "outputs": [],
   "source": [
    "from typing import *\n",
    "\n",
    "from pyk4a import PyK4A, Config\n",
    "from matplotlib import pyplot as plt\n",
    "import numpy as np\n",
    "import cv2\n",
    "\n",
    "\n",
    "device_id = 0\n",
    "config = {}\n",
    "\n",
    "\n",
    "# Load camera with the default config\n",
    "config = Config(**config)\n",
    "print(config.unpack())\n",
    "\n",
    "\n",
    "k4a = PyK4A(device_id=device_id, config=config)\n",
    "k4a.start()"
   ]
  },
  {
   "cell_type": "code",
   "execution_count": null,
   "metadata": {},
   "outputs": [],
   "source": [
    "def colorize(\n",
    "    image: np.ndarray,\n",
    "    clipping_range: Tuple[Optional[int], Optional[int]] = (None, None),\n",
    "    colormap: int = cv2.COLORMAP_HSV,\n",
    ") -> np.ndarray:\n",
    "    if clipping_range[0] or clipping_range[1]:\n",
    "        img = image.clip(clipping_range[0], clipping_range[1])  # type: ignore\n",
    "    else:\n",
    "        img = image.copy()\n",
    "    img = cv2.normalize(img, None, 0, 255, cv2.NORM_MINMAX, dtype=cv2.CV_8U)\n",
    "    img = cv2.applyColorMap(img, colormap)\n",
    "    return img"
   ]
  },
  {
   "cell_type": "code",
   "execution_count": null,
   "metadata": {},
   "outputs": [],
   "source": [
    "# Get the next capture (blocking function)\n",
    "capture = k4a.get_capture()"
   ]
  },
  {
   "cell_type": "code",
   "execution_count": null,
   "metadata": {},
   "outputs": [],
   "source": [
    "color, transformed_depth = capture.color, capture.transformed_depth\n",
    "transformed_color, depth = capture.transformed_color, capture.depth\n",
    "color = color[:, :, 2::-1] # BGRA to RGB\n",
    "transformed_color = transformed_color[:, :, 2::-1] # BGRA to RGB\n",
    "\n",
    "depth_coord = capture.depth_point_cloud / 1000.\n",
    "color_coord = capture.transformed_depth_point_cloud / 1000.\n",
    "\n",
    "plt.figure(figsize = (20,3))\n",
    "plt.imshow(np.concatenate([color, colorize(transformed_depth)], axis=-2))\n",
    "plt.show()"
   ]
  },
  {
   "cell_type": "code",
   "execution_count": null,
   "metadata": {},
   "outputs": [],
   "source": [
    "import open3d as o3d"
   ]
  },
  {
   "cell_type": "code",
   "execution_count": null,
   "metadata": {},
   "outputs": [],
   "source": [
    "depth_frame = True\n",
    "\n",
    "pcd = o3d.geometry.PointCloud()\n",
    "pcd.points = o3d.utility.Vector3dVector((depth_coord if depth_frame else color_coord).reshape(-1,3))\n",
    "pcd.colors = o3d.utility.Vector3dVector((transformed_color if depth_frame else color).reshape(-1,3)/255.)"
   ]
  },
  {
   "cell_type": "code",
   "execution_count": null,
   "metadata": {},
   "outputs": [],
   "source": [
    "o3d.visualization.draw_geometries([pcd])"
   ]
  },
  {
   "cell_type": "code",
   "execution_count": null,
   "metadata": {},
   "outputs": [],
   "source": []
  }
 ],
 "metadata": {
  "kernelspec": {
   "display_name": "kinect",
   "language": "python",
   "name": "python3"
  },
  "language_info": {
   "codemirror_mode": {
    "name": "ipython",
    "version": 3
   },
   "file_extension": ".py",
   "mimetype": "text/x-python",
   "name": "python",
   "nbconvert_exporter": "python",
   "pygments_lexer": "ipython3",
   "version": "3.8.17"
  },
  "orig_nbformat": 4
 },
 "nbformat": 4,
 "nbformat_minor": 2
}
