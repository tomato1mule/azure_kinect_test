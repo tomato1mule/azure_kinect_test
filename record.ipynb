{
 "cells": [
  {
   "cell_type": "code",
   "execution_count": null,
   "metadata": {},
   "outputs": [],
   "source": [
    "import os, sys\n",
    "import time\n",
    "import pickle\n",
    "import gzip\n",
    "from typing import *\n",
    "\n",
    "from pyk4a import PyK4A, Config\n",
    "from matplotlib import pyplot as plt\n",
    "import numpy as np\n",
    "\n",
    "def save_gzip(path, data):\n",
    "    with gzip.open(path, 'wb') as f:\n",
    "        pickle.dump(data, f)"
   ]
  },
  {
   "cell_type": "code",
   "execution_count": null,
   "metadata": {},
   "outputs": [],
   "source": [
    "device_id = 0\n",
    "config = {}\n",
    "\n",
    "\n",
    "# Load camera with the default config\n",
    "config = Config(**config)\n",
    "print(config.unpack())\n",
    "\n",
    "\n",
    "camera = PyK4A(device_id=device_id, config=config)\n",
    "camera.start()\n",
    "time.sleep(0.5)"
   ]
  },
  {
   "cell_type": "code",
   "execution_count": null,
   "metadata": {},
   "outputs": [],
   "source": [
    "fps = 10\n",
    "N_frames = 100\n",
    "use_depth_frame = False\n",
    "\n",
    "captures = []\n",
    "if camera.is_running:\n",
    "    for _ in range(N_frames):\n",
    "        capture = camera.get_capture()\n",
    "        if capture is not None:\n",
    "            if use_depth_frame:\n",
    "                color, depth = capture.transformed_color, capture.depth\n",
    "            else:\n",
    "                color, depth = capture.color, capture.transformed_depth\n",
    "            color = color[:, :, 2::-1]\n",
    "\n",
    "            captures.append((color,depth))\n",
    "        else:\n",
    "            print(\"Empty frame observed!\")\n",
    "        time.sleep(1/fps)"
   ]
  },
  {
   "cell_type": "code",
   "execution_count": null,
   "metadata": {},
   "outputs": [],
   "source": [
    "save_dir = 'recorded'\n",
    "if not os.path.exists(save_dir):\n",
    "    os.makedirs(save_dir)\n",
    "\n",
    "save_gzip(os.path.join(save_dir, 'captures.gzip'), captures)\n",
    "camera.save_calibration_json(os.path.join(save_dir,'calibrations.json'))"
   ]
  },
  {
   "cell_type": "code",
   "execution_count": null,
   "metadata": {},
   "outputs": [],
   "source": []
  }
 ],
 "metadata": {
  "kernelspec": {
   "display_name": "kinect",
   "language": "python",
   "name": "python3"
  },
  "language_info": {
   "codemirror_mode": {
    "name": "ipython",
    "version": 3
   },
   "file_extension": ".py",
   "mimetype": "text/x-python",
   "name": "python",
   "nbconvert_exporter": "python",
   "pygments_lexer": "ipython3",
   "version": "3.8.17"
  },
  "orig_nbformat": 4
 },
 "nbformat": 4,
 "nbformat_minor": 2
}
