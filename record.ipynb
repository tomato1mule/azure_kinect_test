{
 "cells": [
  {
   "cell_type": "code",
   "execution_count": 1,
   "metadata": {},
   "outputs": [
    {
     "name": "stdout",
     "output_type": "stream",
     "text": [
      "Jupyter environment detected. Enabling Open3D WebVisualizer.\n",
      "[Open3D INFO] WebRTC GUI backend enabled.\n",
      "[Open3D INFO] WebRTCWindowSystem: HTTP handshake server disabled.\n"
     ]
    }
   ],
   "source": [
    "import time\n",
    "import pickle\n",
    "import gzip\n",
    "\n",
    "import numpy as np\n",
    "import open3d as o3d\n",
    "import open3d.visualization as vis\n",
    "\n",
    "def save_gzip(path, data):\n",
    "    with gzip.open(path, 'wb') as f:\n",
    "        pickle.dump(data, f)"
   ]
  },
  {
   "cell_type": "code",
   "execution_count": 2,
   "metadata": {},
   "outputs": [
    {
     "name": "stdout",
     "output_type": "stream",
     "text": [
      "[Open3D INFO] AzureKinectSensor::Connect\n",
      "[Open3D INFO] sensor_index 0\n",
      "[Open3D INFO] Serial number: 000018922012\n",
      "[Open3D INFO] Firmware build: Rel\n",
      "[Open3D INFO] > Color: 1.6.110\n",
      "[Open3D INFO] > Depth: 1.6.80[6109.7]\n"
     ]
    }
   ],
   "source": [
    "device_id = 0\n",
    "\n",
    "config = o3d.io.read_azure_kinect_sensor_config(f\"configs/config_{device_id}.json\")\n",
    "sensor = o3d.io.AzureKinectSensor(config)\n",
    "if not sensor.connect(device_id):\n",
    "    raise RuntimeError('Failed to connect to sensor')\n",
    "\n",
    "camera_ready = False\n",
    "for _ in range(10):\n",
    "    frame = sensor.capture_frame(enable_align_depth_to_color=True)\n",
    "    if frame is not None:\n",
    "        camera_ready = True\n",
    "        break\n",
    "    time.sleep(1.)"
   ]
  },
  {
   "cell_type": "code",
   "execution_count": 3,
   "metadata": {},
   "outputs": [],
   "source": [
    "fps = 10\n",
    "N_frames = 100\n",
    "frames = []\n",
    "\n",
    "if camera_ready:\n",
    "    for _ in range(N_frames):\n",
    "        frame = sensor.capture_frame(enable_align_depth_to_color=False)\n",
    "        if frame is not None:\n",
    "            frames.append((np.asarray(frame.color), np.asarray(frame.depth)))\n",
    "        else:\n",
    "            print(\"Empty frame observed!\")\n",
    "        time.sleep(1/fps)"
   ]
  },
  {
   "cell_type": "code",
   "execution_count": 4,
   "metadata": {},
   "outputs": [],
   "source": [
    "save_gzip('frames.gzip', frames)"
   ]
  },
  {
   "cell_type": "code",
   "execution_count": null,
   "metadata": {},
   "outputs": [],
   "source": []
  }
 ],
 "metadata": {
  "kernelspec": {
   "display_name": "kinect",
   "language": "python",
   "name": "python3"
  },
  "language_info": {
   "codemirror_mode": {
    "name": "ipython",
    "version": 3
   },
   "file_extension": ".py",
   "mimetype": "text/x-python",
   "name": "python",
   "nbconvert_exporter": "python",
   "pygments_lexer": "ipython3",
   "version": "3.8.17"
  },
  "orig_nbformat": 4
 },
 "nbformat": 4,
 "nbformat_minor": 2
}
