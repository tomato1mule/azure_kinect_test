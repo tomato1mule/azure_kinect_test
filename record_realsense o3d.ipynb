{
 "cells": [
  {
   "cell_type": "code",
   "execution_count": null,
   "metadata": {},
   "outputs": [],
   "source": [
    "import json\n",
    "import open3d as o3d\n",
    "with open(\"configs/realsense_o3d/default.json\") as cf:\n",
    "    rs_cfg = o3d.t.io.RealSenseSensorConfig(json.load(cf))\n",
    "\n",
    "rs = o3d.t.io.RealSenseSensor()\n",
    "rs.init_sensor(rs_cfg, 0)\n",
    "rs.start_capture(True)  # true: start recording with capture\n",
    "for fid in range(150):\n",
    "    im_rgbd = rs.capture_frame(wait=True, align_depth_to_color=True)  # wait for frames and align them\n",
    "    # process im_rgbd.depth and im_rgbd.color\n",
    "\n",
    "rs.stop_capture()"
   ]
  },
  {
   "cell_type": "code",
   "execution_count": null,
   "metadata": {},
   "outputs": [],
   "source": []
  },
  {
   "cell_type": "code",
   "execution_count": null,
   "metadata": {},
   "outputs": [],
   "source": []
  }
 ],
 "metadata": {
  "kernelspec": {
   "display_name": "kinect",
   "language": "python",
   "name": "python3"
  },
  "language_info": {
   "codemirror_mode": {
    "name": "ipython",
    "version": 3
   },
   "file_extension": ".py",
   "mimetype": "text/x-python",
   "name": "python",
   "nbconvert_exporter": "python",
   "pygments_lexer": "ipython3",
   "version": "3.8.17"
  },
  "orig_nbformat": 4
 },
 "nbformat": 4,
 "nbformat_minor": 2
}
