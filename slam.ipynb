{
 "cells": [
  {
   "cell_type": "code",
   "execution_count": 1,
   "metadata": {},
   "outputs": [
    {
     "name": "stdout",
     "output_type": "stream",
     "text": [
      "Jupyter environment detected. Enabling Open3D WebVisualizer.\n",
      "[Open3D INFO] WebRTC GUI backend enabled.\n",
      "[Open3D INFO] WebRTCWindowSystem: HTTP handshake server disabled.\n"
     ]
    }
   ],
   "source": [
    "from typing import *\n",
    "import os, sys\n",
    "import time\n",
    "\n",
    "from tqdm import tqdm\n",
    "import numpy as np\n",
    "import open3d as o3d\n",
    "import open3d.visualization as vis\n",
    "\n",
    "def load_gzip(path):\n",
    "    import gzip, pickle\n",
    "    with gzip.open(path, 'rb') as f:\n",
    "        return pickle.load(f)\n",
    "    \n",
    "def load_json(path):\n",
    "    import json\n",
    "    with open(path, \"r\") as f:\n",
    "        return json.load(f)\n",
    "    \n",
    "def extract_trianglemesh(volume, \n",
    "                         engine: str, \n",
    "                         surface_weight_thr: Optional[float] = None,\n",
    "                         file_name=None):\n",
    "    if engine == 'legacy':\n",
    "        mesh = volume.extract_triangle_mesh()\n",
    "        mesh.compute_vertex_normals()\n",
    "        mesh.compute_triangle_normals()\n",
    "        if file_name is not None:\n",
    "            o3d.io.write_triangle_mesh(file_name, mesh)\n",
    "\n",
    "    elif engine == 'tensor':\n",
    "        mesh = volume.extract_triangle_mesh(\n",
    "            weight_threshold=surface_weight_thr)\n",
    "        mesh = mesh.to_legacy()\n",
    "\n",
    "        if file_name is not None:\n",
    "            o3d.io.write_triangle_mesh(file_name, mesh)\n",
    "\n",
    "    return mesh"
   ]
  },
  {
   "cell_type": "code",
   "execution_count": 2,
   "metadata": {},
   "outputs": [],
   "source": [
    "save_dir = 'dat/recorded/d415/'\n",
    "captures = load_gzip(os.path.join(save_dir, 'captures.gzip'))\n",
    "calibrations = load_json(os.path.join(save_dir, 'calibrations.json'))\n",
    "calibrations = {k:np.array(v) for k,v in calibrations.items()}"
   ]
  },
  {
   "cell_type": "code",
   "execution_count": 3,
   "metadata": {},
   "outputs": [],
   "source": [
    "# device = 'CUDA:0'\n",
    "# voxel_size = 0.005\n",
    "# block_resolution = 16\n",
    "# block_count = 40000\n",
    "# depth_scale = 1000.0\n",
    "# depth_min = 0.1\n",
    "# depth_max = 3.0\n",
    "# odometry_distance_thr = 0.07\n",
    "# trunc_voxel_multiplier = 8.0\n",
    "# engine = 'tensor'\n",
    "# surface_weight_thr = 3.0\n",
    "\n",
    "device = 'CUDA:0'\n",
    "voxel_size = 0.003\n",
    "block_resolution = 16\n",
    "block_count = 10000\n",
    "depth_scale = 1000.0\n",
    "depth_min = 0.1\n",
    "depth_max = 1.0\n",
    "odometry_distance_thr = 0.07\n",
    "trunc_voxel_multiplier = 4.0\n",
    "engine = 'tensor'\n",
    "surface_weight_thr = 3.0\n",
    "\n",
    "\n"
   ]
  },
  {
   "cell_type": "code",
   "execution_count": 4,
   "metadata": {},
   "outputs": [],
   "source": [
    "if isinstance(device, str):\n",
    "    device = o3d.core.Device(device)\n",
    "\n",
    "intrinsic = o3d.core.Tensor(calibrations['camera_matrix'])\n",
    "T_frame_to_model = o3d.core.Tensor(np.identity(4))\n",
    "model = o3d.t.pipelines.slam.Model(\n",
    "    voxel_size, \n",
    "    block_resolution,\n",
    "    block_count, \n",
    "    transformation=T_frame_to_model,\n",
    "    device=device\n",
    ")\n",
    "\n",
    "depth_ref = o3d.t.geometry.Image(captures[0][1])\n",
    "input_frame = o3d.t.pipelines.slam.Frame(depth_ref.rows, depth_ref.columns,\n",
    "                                            intrinsic, device)\n",
    "raycast_frame = o3d.t.pipelines.slam.Frame(depth_ref.rows,\n",
    "                                            depth_ref.columns, intrinsic,\n",
    "                                            device)"
   ]
  },
  {
   "cell_type": "code",
   "execution_count": 5,
   "metadata": {},
   "outputs": [
    {
     "name": "stderr",
     "output_type": "stream",
     "text": [
      "13it [00:00, 127.89it/s]"
     ]
    },
    {
     "name": "stdout",
     "output_type": "stream",
     "text": [
      "\u001b[1;33m[Open3D WARNING] Property not found for color, return an empty tensor!\u001b[0;m\n"
     ]
    },
    {
     "name": "stderr",
     "output_type": "stream",
     "text": [
      "293it [00:01, 224.58it/s]\n"
     ]
    }
   ],
   "source": [
    "poses = []\n",
    "\n",
    "for i, capture in tqdm(enumerate(captures)):\n",
    "    color, depth = o3d.t.geometry.Image(capture[0]).to(device), o3d.t.geometry.Image(capture[1]).to(device)\n",
    "\n",
    "    input_frame.set_data_from_image('depth', depth)\n",
    "    input_frame.set_data_from_image('color', color)\n",
    "\n",
    "    if i > 0:\n",
    "        result = model.track_frame_to_model(input_frame, raycast_frame,\n",
    "                                            depth_scale,\n",
    "                                            depth_max,\n",
    "                                            odometry_distance_thr)\n",
    "        T_frame_to_model = T_frame_to_model @ result.transformation\n",
    "\n",
    "    poses.append(T_frame_to_model.cpu().numpy())\n",
    "    model.update_frame_pose(i, T_frame_to_model)\n",
    "    model.integrate(input_frame, depth_scale, depth_max,\n",
    "                    trunc_voxel_multiplier)\n",
    "    model.synthesize_model_frame(raycast_frame, depth_scale,\n",
    "                                    depth_min, depth_max,\n",
    "                                    trunc_voxel_multiplier, False)"
   ]
  },
  {
   "cell_type": "code",
   "execution_count": 6,
   "metadata": {},
   "outputs": [],
   "source": [
    "volume, poses = model.voxel_grid, poses"
   ]
  },
  {
   "cell_type": "code",
   "execution_count": 7,
   "metadata": {},
   "outputs": [],
   "source": [
    "mesh = extract_trianglemesh(volume, engine=engine, surface_weight_thr=surface_weight_thr)"
   ]
  },
  {
   "cell_type": "code",
   "execution_count": 8,
   "metadata": {},
   "outputs": [],
   "source": [
    "o3d.visualization.draw_geometries([mesh])"
   ]
  },
  {
   "cell_type": "code",
   "execution_count": null,
   "metadata": {},
   "outputs": [],
   "source": []
  }
 ],
 "metadata": {
  "kernelspec": {
   "display_name": "kinect",
   "language": "python",
   "name": "python3"
  },
  "language_info": {
   "codemirror_mode": {
    "name": "ipython",
    "version": 3
   },
   "file_extension": ".py",
   "mimetype": "text/x-python",
   "name": "python",
   "nbconvert_exporter": "python",
   "pygments_lexer": "ipython3",
   "version": "3.8.17"
  },
  "orig_nbformat": 4
 },
 "nbformat": 4,
 "nbformat_minor": 2
}
