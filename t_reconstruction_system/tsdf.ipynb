{
 "cells": [
  {
   "cell_type": "code",
   "execution_count": null,
   "metadata": {},
   "outputs": [],
   "source": [
    "import sys\n",
    "import time\n",
    "\n",
    "import open3d as o3d\n",
    "import open3d.core as o3c\n",
    "from tqdm import tqdm\n",
    "\n",
    "from common import load_rgbd_file_names, load_depth_file_names, load_intrinsic, load_extrinsics, get_default_dataset\n",
    "from config import ConfigParser\n",
    "\n",
    "sys.argv = ['test.py', ]\n",
    "\n",
    "parser = ConfigParser()\n",
    "parser.add(\n",
    "    '--config',\n",
    "    is_config_file=True,\n",
    "    help='YAML config file path. Please refer to default_config.yml as a '\n",
    "    'reference. It overrides the default config file, but will be '\n",
    "    'overridden by other command line inputs.')\n",
    "parser.add('--default_dataset',\n",
    "            help='Default dataset is used when config file is not provided. '\n",
    "            'Default dataset may be selected from the following options: '\n",
    "            '[lounge, jack_jack]',\n",
    "            default='lounge')\n",
    "parser.add('--path_trajectory',\n",
    "            help='path to the trajectory .log or .json file.')\n",
    "parser.add('--path_npz',\n",
    "            help='path to the npz file that stores voxel block grid.',\n",
    "            default='vbg.npz')\n",
    "config = parser.get_config()"
   ]
  },
  {
   "cell_type": "code",
   "execution_count": null,
   "metadata": {},
   "outputs": [],
   "source": [
    "def integrate(depth_file_names, color_file_names, depth_intrinsic,\n",
    "              color_intrinsic, extrinsics, config):\n",
    "    n_files = len(depth_file_names)\n",
    "    device = o3d.core.Device(config.device)\n",
    "\n",
    "    if config.integrate_color:\n",
    "        vbg = o3d.t.geometry.VoxelBlockGrid(\n",
    "            attr_names=('tsdf', 'weight', 'color'),\n",
    "            attr_dtypes=(o3c.float32, o3c.float32, o3c.float32),\n",
    "            attr_channels=((1), (1), (3)),\n",
    "            voxel_size=3.0 / 512,\n",
    "            block_resolution=16,\n",
    "            block_count=50000,\n",
    "            device=device)\n",
    "    else:\n",
    "        vbg = o3d.t.geometry.VoxelBlockGrid(attr_names=('tsdf', 'weight'),\n",
    "                                            attr_dtypes=(o3c.float32,\n",
    "                                                         o3c.float32),\n",
    "                                            attr_channels=((1), (1)),\n",
    "                                            voxel_size=3.0 / 512,\n",
    "                                            block_resolution=16,\n",
    "                                            block_count=50000,\n",
    "                                            device=device)\n",
    "\n",
    "    start = time.time()\n",
    "    for i in tqdm(range(n_files)):\n",
    "        depth = o3d.t.io.read_image(depth_file_names[i]).to(device)\n",
    "        extrinsic = extrinsics[i]\n",
    "\n",
    "        frustum_block_coords = vbg.compute_unique_block_coordinates(\n",
    "            depth, depth_intrinsic, extrinsic, config.depth_scale,\n",
    "            config.depth_max)\n",
    "\n",
    "        if config.integrate_color:\n",
    "            color = o3d.t.io.read_image(color_file_names[i]).to(device)\n",
    "            vbg.integrate(frustum_block_coords, depth, color, depth_intrinsic,\n",
    "                          color_intrinsic, extrinsic, config.depth_scale,\n",
    "                          config.depth_max)\n",
    "        else:\n",
    "            vbg.integrate(frustum_block_coords, depth, depth_intrinsic,\n",
    "                          extrinsic, config.depth_scale, config.depth_max)\n",
    "        dt = time.time() - start\n",
    "    print('Finished integrating {} frames in {} seconds'.format(n_files, dt))\n",
    "\n",
    "    return vbg"
   ]
  },
  {
   "cell_type": "code",
   "execution_count": null,
   "metadata": {},
   "outputs": [],
   "source": [
    "if config.path_dataset == '':\n",
    "    config = get_default_dataset(config)\n",
    "\n",
    "if config.integrate_color:\n",
    "    depth_file_names, color_file_names = load_rgbd_file_names(config)\n",
    "else:\n",
    "    depth_file_names = load_depth_file_names(config)\n",
    "    color_file_names = None\n",
    "\n",
    "depth_intrinsic = load_intrinsic(config)\n",
    "color_intrinsic = load_intrinsic(config, 'color')\n",
    "extrinsics = load_extrinsics(config.path_trajectory, config)"
   ]
  },
  {
   "cell_type": "code",
   "execution_count": null,
   "metadata": {},
   "outputs": [],
   "source": [
    "vbg = integrate(depth_file_names, color_file_names, depth_intrinsic,\n",
    "                color_intrinsic, extrinsics, config)"
   ]
  },
  {
   "cell_type": "code",
   "execution_count": null,
   "metadata": {},
   "outputs": [],
   "source": [
    "pcd = vbg.extract_point_cloud()"
   ]
  },
  {
   "cell_type": "code",
   "execution_count": null,
   "metadata": {},
   "outputs": [],
   "source": [
    "import open3d.visualization as vis"
   ]
  },
  {
   "cell_type": "code",
   "execution_count": null,
   "metadata": {},
   "outputs": [],
   "source": [
    "vis.draw([pcd])"
   ]
  },
  {
   "cell_type": "code",
   "execution_count": null,
   "metadata": {},
   "outputs": [],
   "source": [
    "vbg"
   ]
  },
  {
   "cell_type": "code",
   "execution_count": null,
   "metadata": {},
   "outputs": [],
   "source": []
  }
 ],
 "metadata": {
  "kernelspec": {
   "display_name": "kinect",
   "language": "python",
   "name": "python3"
  },
  "language_info": {
   "codemirror_mode": {
    "name": "ipython",
    "version": 3
   },
   "file_extension": ".py",
   "mimetype": "text/x-python",
   "name": "python",
   "nbconvert_exporter": "python",
   "pygments_lexer": "ipython3",
   "version": "3.8.17"
  },
  "orig_nbformat": 4
 },
 "nbformat": 4,
 "nbformat_minor": 2
}
