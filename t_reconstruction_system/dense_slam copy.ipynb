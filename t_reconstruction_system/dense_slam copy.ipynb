{
 "cells": [
  {
   "cell_type": "code",
   "execution_count": null,
   "metadata": {},
   "outputs": [],
   "source": [
    "import os, sys\n",
    "import numpy as np\n",
    "import open3d as o3d\n",
    "import time\n",
    "\n",
    "import open3d as o3d\n",
    "import open3d.core as o3c\n",
    "import open3d.visualization.gui as gui\n",
    "import open3d.visualization.rendering as rendering\n",
    "\n",
    "from config import ConfigParser\n",
    "from common import get_default_dataset, load_rgbd_file_names, save_poses, load_intrinsic, extract_trianglemesh, extract_rgbd_frames"
   ]
  },
  {
   "cell_type": "code",
   "execution_count": null,
   "metadata": {},
   "outputs": [],
   "source": [
    "def slam(depth_file_names, color_file_names, intrinsic, config):\n",
    "    n_files = len(color_file_names)\n",
    "    device = o3d.core.Device(config.device)\n",
    "\n",
    "    T_frame_to_model = o3d.core.Tensor(np.identity(4))\n",
    "    model = o3d.t.pipelines.slam.Model(config.voxel_size, 16,\n",
    "                                       config.block_count, T_frame_to_model,\n",
    "                                       device)\n",
    "    depth_ref = o3d.t.io.read_image(depth_file_names[0])\n",
    "    input_frame = o3d.t.pipelines.slam.Frame(depth_ref.rows, depth_ref.columns,\n",
    "                                             intrinsic, device)\n",
    "    raycast_frame = o3d.t.pipelines.slam.Frame(depth_ref.rows,\n",
    "                                               depth_ref.columns, intrinsic,\n",
    "                                               device)\n",
    "\n",
    "    poses = []\n",
    "\n",
    "    for i in range(n_files):\n",
    "        start = time.time()\n",
    "\n",
    "        depth = o3d.t.io.read_image(depth_file_names[i]).to(device)\n",
    "        color = o3d.t.io.read_image(color_file_names[i]).to(device)\n",
    "\n",
    "        input_frame.set_data_from_image('depth', depth)\n",
    "        input_frame.set_data_from_image('color', color)\n",
    "\n",
    "        if i > 0:\n",
    "            result = model.track_frame_to_model(input_frame, raycast_frame,\n",
    "                                                config.depth_scale,\n",
    "                                                config.depth_max,\n",
    "                                                config.odometry_distance_thr)\n",
    "            T_frame_to_model = T_frame_to_model @ result.transformation\n",
    "\n",
    "        poses.append(T_frame_to_model.cpu().numpy())\n",
    "        model.update_frame_pose(i, T_frame_to_model)\n",
    "        model.integrate(input_frame, config.depth_scale, config.depth_max,\n",
    "                        config.trunc_voxel_multiplier)\n",
    "        model.synthesize_model_frame(raycast_frame, config.depth_scale,\n",
    "                                     config.depth_min, config.depth_max,\n",
    "                                     config.trunc_voxel_multiplier, False)\n",
    "        stop = time.time()\n",
    "        print('{:04d}/{:04d} slam takes {:.4}s'.format(i, n_files,\n",
    "                                                       stop - start))\n",
    "\n",
    "    return model.voxel_grid, poses"
   ]
  },
  {
   "cell_type": "code",
   "execution_count": null,
   "metadata": {},
   "outputs": [],
   "source": [
    "argv = sys.argv.copy()\n",
    "sys.argv = [\"test.py\", \"--path_npz=output.npz\"]\n",
    "\n",
    "parser = ConfigParser()\n",
    "parser.add(\n",
    "    '--config',\n",
    "    is_config_file=True,\n",
    "    help='YAML config file path. Please refer to default_config.yml as a '\n",
    "    'reference. It overrides the default config file, but will be '\n",
    "    'overridden by other command line inputs.')\n",
    "parser.add('--default_dataset',\n",
    "            help='Default dataset is used when config file is not provided. '\n",
    "            'Default dataset may be selected from the following options: '\n",
    "            '[lounge, bedroom, jack_jack]',\n",
    "            default='lounge')\n",
    "parser.add('--path_npz',\n",
    "            help='path to the npz file that stores voxel block grid.',\n",
    "            default='output.npz')\n",
    "config = parser.get_config()\n",
    "\n",
    "sys.argv = argv"
   ]
  },
  {
   "cell_type": "code",
   "execution_count": null,
   "metadata": {},
   "outputs": [],
   "source": [
    "if config.path_dataset == '':\n",
    "    config = get_default_dataset(config)\n",
    "\n",
    "depth_file_names, color_file_names = load_rgbd_file_names(config)\n",
    "intrinsic = load_intrinsic(config)"
   ]
  },
  {
   "cell_type": "code",
   "execution_count": null,
   "metadata": {},
   "outputs": [],
   "source": []
  },
  {
   "cell_type": "code",
   "execution_count": null,
   "metadata": {},
   "outputs": [],
   "source": []
  },
  {
   "cell_type": "code",
   "execution_count": null,
   "metadata": {},
   "outputs": [],
   "source": []
  },
  {
   "cell_type": "code",
   "execution_count": null,
   "metadata": {},
   "outputs": [],
   "source": [
    "intrinsic"
   ]
  },
  {
   "cell_type": "code",
   "execution_count": null,
   "metadata": {},
   "outputs": [],
   "source": []
  },
  {
   "cell_type": "code",
   "execution_count": null,
   "metadata": {},
   "outputs": [],
   "source": []
  },
  {
   "cell_type": "code",
   "execution_count": null,
   "metadata": {},
   "outputs": [],
   "source": []
  },
  {
   "cell_type": "code",
   "execution_count": null,
   "metadata": {},
   "outputs": [],
   "source": []
  },
  {
   "cell_type": "code",
   "execution_count": null,
   "metadata": {},
   "outputs": [],
   "source": [
    "asfd"
   ]
  },
  {
   "cell_type": "code",
   "execution_count": null,
   "metadata": {},
   "outputs": [],
   "source": [
    "volume, poses = slam(depth_file_names, color_file_names, intrinsic,\n",
    "                        config)"
   ]
  },
  {
   "cell_type": "code",
   "execution_count": null,
   "metadata": {},
   "outputs": [],
   "source": [
    "mesh = extract_trianglemesh(volume, config)"
   ]
  },
  {
   "cell_type": "code",
   "execution_count": null,
   "metadata": {},
   "outputs": [],
   "source": [
    "mesh"
   ]
  },
  {
   "cell_type": "code",
   "execution_count": null,
   "metadata": {},
   "outputs": [],
   "source": [
    "o3d.visualization.draw_geometries([mesh])"
   ]
  },
  {
   "cell_type": "code",
   "execution_count": null,
   "metadata": {},
   "outputs": [],
   "source": []
  }
 ],
 "metadata": {
  "kernelspec": {
   "display_name": "kinect",
   "language": "python",
   "name": "python3"
  },
  "language_info": {
   "codemirror_mode": {
    "name": "ipython",
    "version": 3
   },
   "file_extension": ".py",
   "mimetype": "text/x-python",
   "name": "python",
   "nbconvert_exporter": "python",
   "pygments_lexer": "ipython3",
   "version": "3.8.17"
  },
  "orig_nbformat": 4
 },
 "nbformat": 4,
 "nbformat_minor": 2
}
