{
 "cells": [
  {
   "cell_type": "code",
   "execution_count": null,
   "metadata": {},
   "outputs": [],
   "source": [
    "import os, sys\n",
    "import numpy as np\n",
    "import threading\n",
    "import time\n",
    "\n",
    "sys.argv = [\"test.py\"]\n",
    "import open3d as o3d\n",
    "import open3d.core as o3c\n",
    "import open3d.visualization.gui as gui\n",
    "import open3d.visualization.rendering as rendering\n",
    "\n",
    "from config import ConfigParser\n",
    "from common import load_rgbd_file_names, save_poses, load_intrinsic, extract_trianglemesh, get_default_dataset, extract_rgbd_frames\n",
    "from dense_slam_gui import set_enabled, ReconstructionWindow"
   ]
  },
  {
   "cell_type": "code",
   "execution_count": null,
   "metadata": {},
   "outputs": [],
   "source": [
    "sys.argv = [\"test.py\"]\n",
    "\n",
    "parser = ConfigParser()\n",
    "parser.add(\n",
    "    '--config',\n",
    "    is_config_file=True,\n",
    "    help='YAML config file path. Please refer to default_config.yml as a '\n",
    "    'reference. It overrides the default config file, but will be '\n",
    "    'overridden by other command line inputs.')\n",
    "parser.add('--default_dataset',\n",
    "            help='Default dataset is used when config file is not provided. '\n",
    "            'Default dataset may be selected from the following options: '\n",
    "            '[lounge, bedroom, jack_jack]',\n",
    "            default='lounge')\n",
    "parser.add('--path_npz',\n",
    "            help='path to the npz file that stores voxel block grid.',\n",
    "            default='output.npz')\n",
    "config = parser.get_config()"
   ]
  },
  {
   "cell_type": "code",
   "execution_count": null,
   "metadata": {},
   "outputs": [],
   "source": [
    "if config.path_dataset == '':\n",
    "    config = get_default_dataset(config)"
   ]
  },
  {
   "cell_type": "code",
   "execution_count": null,
   "metadata": {},
   "outputs": [],
   "source": [
    "app = gui.Application.instance\n",
    "app.initialize()\n",
    "mono = app.add_font(gui.FontDescription(gui.FontDescription.MONOSPACE))\n",
    "w = ReconstructionWindow(config, mono)\n",
    "app.run()"
   ]
  },
  {
   "cell_type": "code",
   "execution_count": null,
   "metadata": {},
   "outputs": [],
   "source": []
  },
  {
   "cell_type": "code",
   "execution_count": null,
   "metadata": {},
   "outputs": [],
   "source": []
  },
  {
   "cell_type": "code",
   "execution_count": null,
   "metadata": {},
   "outputs": [],
   "source": []
  }
 ],
 "metadata": {
  "kernelspec": {
   "display_name": "kinect",
   "language": "python",
   "name": "python3"
  },
  "language_info": {
   "codemirror_mode": {
    "name": "ipython",
    "version": 3
   },
   "file_extension": ".py",
   "mimetype": "text/x-python",
   "name": "python",
   "nbconvert_exporter": "python",
   "pygments_lexer": "ipython3",
   "version": "3.8.17"
  },
  "orig_nbformat": 4
 },
 "nbformat": 4,
 "nbformat_minor": 2
}
